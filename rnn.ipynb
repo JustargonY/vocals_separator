{
 "cells": [
  {
   "cell_type": "markdown",
   "id": "e59f571daec2128f",
   "metadata": {
    "collapsed": false
   },
   "source": [
    "## This file contains rnn architecture to train on pc"
   ]
  },
  {
   "cell_type": "code",
   "execution_count": 8,
   "id": "initial_id",
   "metadata": {
    "collapsed": true,
    "ExecuteTime": {
     "end_time": "2024-12-11T16:19:05.373107Z",
     "start_time": "2024-12-11T16:19:05.271623700Z"
    }
   },
   "outputs": [],
   "source": [
    "import tensorflow as tf\n",
    "import numpy as np\n",
    "from scipy.io import wavfile\n",
    "from scipy.signal import stft\n",
    "import os\n",
    "from matplotlib import pyplot as plt\n",
    "\n",
    "FRAME_LENGTH = 1024\n",
    "HOP_LENGTH = 512\n",
    "SR = 44100\n",
    "NUM_FRAMES = 31\n",
    "TARGET_FRAME_INDEX = NUM_FRAMES // 2\n",
    "FREQ_BINS = FRAME_LENGTH // 2 + 1\n",
    "\n",
    "def load_audio_with_scipy(file_path, target_sr=SR, frame_length=10 * SR):\n",
    "    file_path = file_path.numpy().decode(\"utf-8\")\n",
    "    sr, audio = wavfile.read(file_path)\n",
    "    if audio.dtype == np.int16:\n",
    "        audio = audio / 32768.0\n",
    "    if len(audio.shape) > 1:\n",
    "        audio = np.mean(audio, axis=1)\n",
    "    if sr != target_sr:\n",
    "        from scipy.signal import resample\n",
    "        audio = resample(audio, int(len(audio) * target_sr / sr))\n",
    "    if len(audio) < frame_length:\n",
    "        audio = np.pad(audio, (0, frame_length - len(audio)), mode='constant')\n",
    "    else:\n",
    "        audio = audio[:frame_length * 12]\n",
    "    return audio\n",
    "\n",
    "def compute_spectrogram(audio, frame_length=FRAME_LENGTH, hop_length=HOP_LENGTH):\n",
    "    _, _, Zxx = stft(audio, fs=SR, nperseg=frame_length, noverlap=frame_length - hop_length)\n",
    "    return np.abs(Zxx)\n",
    "\n",
    "def create_binary_mask(vocal_spec, mix_spec, threshold=1.05):\n",
    "    return (vocal_spec > threshold * mix_spec).astype(np.int32)\n",
    "\n",
    "def get_window_from_spectrogram(spectrogram, start_idx, num_frames=NUM_FRAMES):\n",
    "    num_freq_bins, num_time_frames = spectrogram.shape\n",
    "    window = np.zeros((num_freq_bins, num_frames))\n",
    "\n",
    "    start = max(0, start_idx)\n",
    "    end = min(start_idx + num_frames, num_time_frames)\n",
    "\n",
    "    insert_start = max(0, -start_idx)\n",
    "    insert_end = insert_start + (end - start)\n",
    "\n",
    "    window[:, insert_start:insert_end] = spectrogram[:, start:end]\n",
    "\n",
    "    return window\n",
    "\n",
    "def preprocess_pair_with_scipy(mix_path, vocal_path):\n",
    "    mix_audio = load_audio_with_scipy(mix_path)\n",
    "    vocal_audio = load_audio_with_scipy(vocal_path)\n",
    "\n",
    "    mix_spec = compute_spectrogram(mix_audio)\n",
    "    vocal_spec = compute_spectrogram(vocal_audio)\n",
    "    mask = create_binary_mask(vocal_spec, mix_spec)\n",
    "\n",
    "    X, y = [], []\n",
    "    for i in range(-(NUM_FRAMES // 2), mix_spec.shape[1] - (NUM_FRAMES // 2)):\n",
    "        window = get_window_from_spectrogram(mix_spec, i, NUM_FRAMES)\n",
    "        target_frame = mask[:, max(0, min(i + TARGET_FRAME_INDEX, mask.shape[1] - 1))]\n",
    "        X.append(window)\n",
    "        y.append(target_frame)\n",
    "    return np.array(X), np.array(y)\n",
    "\n",
    "def tf_preprocess(mix_path, vocal_path):\n",
    "    X, y = tf.py_function(\n",
    "        func=preprocess_pair_with_scipy,\n",
    "        inp=[mix_path, vocal_path],\n",
    "        Tout=[tf.float32, tf.float32],\n",
    "    )\n",
    "    X.set_shape([None, FREQ_BINS, NUM_FRAMES])\n",
    "    y.set_shape([None, FREQ_BINS])\n",
    "    return X, y\n",
    "\n",
    "\n",
    "mix_files = [f'drive/MyDrive/Colab Notebooks/data/musdb/musdb18hq/train/{track}/mixture.wav'\n",
    "               for track in os.listdir('drive/MyDrive/Colab Notebooks/data/musdb/musdb18hq/train')]\n",
    "vocal_files = [f'drive/MyDrive/Colab Notebooks/data/musdb/musdb18hq/train/{track}/vocals.wav'\n",
    "                for track in os.listdir('drive/MyDrive/Colab Notebooks/data/musdb/musdb18hq/train')]\n",
    "mix_files.extend([f'drive/MyDrive/Colab Notebooks/data/ccmixter_corpus/{track}/mix.wav'\n",
    "                    for track in os.listdir('drive/MyDrive/Colab Notebooks/data/ccmixter_corpus')[:30]])\n",
    "vocal_files.extend([f'drive/MyDrive/Colab Notebooks/data/ccmixter_corpus/{track}/source-02.wav'\n",
    "                     for track in os.listdir('drive/MyDrive/Colab Notebooks/data/ccmixter_corpus')[:30]])\n",
    "\n",
    "mix_files_test = [f'drive/MyDrive/Colab Notebooks/data/musdb/musdb18hq/test/{track}/mixture.wav'\n",
    "               for track in os.listdir('drive/MyDrive/Colab Notebooks/data/musdb/musdb18hq/test')][:25]\n",
    "vocal_files_test = [f'drive/MyDrive/Colab Notebooks/data/musdb/musdb18hq/test/{track}/vocals.wav'\n",
    "                for track in os.listdir('drive/MyDrive/Colab Notebooks/data/musdb/musdb18hq/test')][:25]\n",
    "mix_files_test.extend([f'drive/MyDrive/Colab Notebooks/data/ccmixter_corpus/{track}/mix.wav'\n",
    "                    for track in os.listdir('drive/MyDrive/Colab Notebooks/data/ccmixter_corpus')[30:40]])\n",
    "vocal_files_test.extend([f'drive/MyDrive/Colab Notebooks/data/ccmixter_corpus/{track}/source-02.wav'\n",
    "                     for track in os.listdir('drive/MyDrive/Colab Notebooks/data/ccmixter_corpus')[30:40]])\n",
    "\n",
    "mix_files_validation = [f'drive/MyDrive/Colab Notebooks/data/musdb/musdb18hq/test/{track}/mixture.wav'\n",
    "               for track in os.listdir('drive/MyDrive/Colab Notebooks/data/musdb/musdb18hq/test')][25:]\n",
    "vocal_files_validation = [f'drive/MyDrive/Colab Notebooks/data/musdb/musdb18hq/test/{track}/vocals.wav'\n",
    "                for track in os.listdir('drive/MyDrive/Colab Notebooks/data/musdb/musdb18hq/test')][25:]\n",
    "mix_files_validation.extend([f'drive/MyDrive/Colab Notebooks/data/ccmixter_corpus/{track}/mix.wav'\n",
    "                    for track in os.listdir('drive/MyDrive/Colab Notebooks/data/ccmixter_corpus')[40:]])\n",
    "vocal_files_validation.extend([f'drive/MyDrive/Colab Notebooks/data/ccmixter_corpus/{track}/source-02.wav'\n",
    "                     for track in os.listdir('drive/MyDrive/Colab Notebooks/data/ccmixter_corpus')[40:]])\n",
    "\n",
    "file_dataset = tf.data.Dataset.from_tensor_slices((mix_files, vocal_files))\n",
    "file_dataset_test = tf.data.Dataset.from_tensor_slices((mix_files_test, vocal_files_test))\n",
    "file_dataset_validation = tf.data.Dataset.from_tensor_slices((mix_files_validation, vocal_files_validation))\n",
    "\n",
    "train_dataset = file_dataset.map(tf_preprocess)\n",
    "test_dataset = file_dataset_test.map(tf_preprocess)\n",
    "valid_dataset = file_dataset_validation.map(tf_preprocess)\n",
    "\n",
    "BATCH_SIZE = 32\n",
    "epochs=20\n",
    "train_dataset = train_dataset.unbatch().batch(BATCH_SIZE, drop_remainder=True).prefetch(tf.data.AUTOTUNE)\n",
    "\n",
    "test_dataset = test_dataset.unbatch().batch(BATCH_SIZE, drop_remainder=True).prefetch(tf.data.AUTOTUNE)\n",
    "val_dataset = valid_dataset.unbatch().batch(BATCH_SIZE, drop_remainder=True).prefetch(tf.data.AUTOTUNE)"
   ]
  },
  {
   "cell_type": "code",
   "execution_count": 16,
   "id": "c78e20e758002384",
   "metadata": {
    "collapsed": false,
    "ExecuteTime": {
     "end_time": "2024-12-11T16:53:36.386063400Z",
     "start_time": "2024-12-11T16:53:36.366475300Z"
    }
   },
   "outputs": [],
   "source": [
    "from tensorflow.keras import layers, Model\n",
    "from tensorflow.keras.callbacks import ModelCheckpoint, EarlyStopping"
   ]
  },
  {
   "cell_type": "code",
   "execution_count": 17,
   "id": "6c915628cd639ba7",
   "metadata": {
    "collapsed": false,
    "ExecuteTime": {
     "end_time": "2024-12-11T16:53:37.305542600Z",
     "start_time": "2024-12-11T16:53:37.288278700Z"
    }
   },
   "outputs": [],
   "source": [
    "def extract_central_frame(x):\n",
    "    return x[:, TARGET_FRAME_INDEX, :]\n",
    "\n",
    "def rnn_model(input_shape=(FREQ_BINS, NUM_FRAMES)):\n",
    "    inputs = layers.Input(shape=input_shape)\n",
    "\n",
    "    x = layers.Permute((2, 1))(inputs)\n",
    "\n",
    "    x = layers.LSTM(256, return_sequences=True, activation='relu')(x)\n",
    "    x = layers.Dropout(0.3)(x)\n",
    "    x = layers.LSTM(256, return_sequences=True, activation='sigmoid')(x)\n",
    "    x = layers.Dropout(0.3)(x)\n",
    "\n",
    "    x = layers.TimeDistributed(layers.Dense(FREQ_BINS, activation='sigmoid'))(x)\n",
    "\n",
    "    outputs = layers.Lambda(extract_central_frame)(x)\n",
    "\n",
    "    model = Model(inputs, outputs)\n",
    "    return model"
   ]
  },
  {
   "cell_type": "code",
   "execution_count": 18,
   "id": "8cc9c0365f63a5dd",
   "metadata": {
    "collapsed": false,
    "ExecuteTime": {
     "end_time": "2024-12-11T16:53:49.710451600Z",
     "start_time": "2024-12-11T16:53:49.295309900Z"
    }
   },
   "outputs": [],
   "source": [
    "def dice_loss(y_true, y_pred):\n",
    "    numerator = 2 * tf.reduce_sum(y_true * y_pred)\n",
    "    denominator = tf.reduce_sum(y_true + y_pred)\n",
    "    return 1 - numerator / (denominator + tf.keras.backend.epsilon())\n",
    "\n",
    "def bce_dice_loss(y_true, y_pred):\n",
    "    bce = tf.keras.losses.BinaryCrossentropy()(y_true, y_pred)\n",
    "    dice = dice_loss(y_true, y_pred)\n",
    "    return bce + dice\n",
    "\n",
    "model = rnn_model(input_shape=(FREQ_BINS, NUM_FRAMES))\n",
    "model.compile(\n",
    "    optimizer=tf.keras.optimizers.Adam(learning_rate=1e-4),\n",
    "    loss='binary_crossentropy',\n",
    "    metrics=[\"accuracy\", 'binary_crossentropy']\n",
    ")\n",
    "\n",
    "# Callbacks\n",
    "checkpoint = ModelCheckpoint(\"models/best_rnn_model.keras\", save_best_only=True, monitor=\"val_loss\", mode=\"min\")\n",
    "early_stopping = EarlyStopping(monitor=\"val_loss\", patience=5, mode=\"min\", restore_best_weights=True)\n",
    "\n",
    "epochs = 2"
   ]
  },
  {
   "cell_type": "code",
   "execution_count": 19,
   "id": "9a9fe60d6a3386f4",
   "metadata": {
    "collapsed": false,
    "ExecuteTime": {
     "end_time": "2024-12-11T16:54:44.707739Z",
     "start_time": "2024-12-11T16:53:51.780818600Z"
    }
   },
   "outputs": [
    {
     "name": "stdout",
     "output_type": "stream",
     "text": [
      "Epoch 1/2\n",
      "\u001B[1m35/35\u001B[0m \u001B[32m━━━━━━━━━━━━━━━━━━━━\u001B[0m\u001B[37m\u001B[0m \u001B[1m40s\u001B[0m 855ms/step - accuracy: 0.0011 - binary_crossentropy: 0.6726 - loss: 0.6726 - val_accuracy: 0.0000e+00 - val_binary_crossentropy: 0.5347 - val_loss: 0.5347\n",
      "Epoch 2/2\n",
      "\u001B[1m35/35\u001B[0m \u001B[32m━━━━━━━━━━━━━━━━━━━━\u001B[0m\u001B[37m\u001B[0m \u001B[1m12s\u001B[0m 340ms/step - accuracy: 0.0018 - binary_crossentropy: 0.5559 - loss: 0.5559 - val_accuracy: 0.0000e+00 - val_binary_crossentropy: 0.4617 - val_loss: 0.4617\n"
     ]
    }
   ],
   "source": [
    "history2 = model.fit(\n",
    "    train_dataset,\n",
    "    validation_data=val_dataset,\n",
    "    epochs=epochs,\n",
    "    steps_per_epoch=35,\n",
    "    validation_steps=9,\n",
    "    callbacks=[checkpoint, early_stopping],\n",
    "    verbose=1\n",
    ")"
   ]
  },
  {
   "cell_type": "code",
   "execution_count": 21,
   "id": "ed8feea22eb948ef",
   "metadata": {
    "ExecuteTime": {
     "end_time": "2024-11-25T20:50:08.175573800Z",
     "start_time": "2024-11-25T20:50:07.929324100Z"
    },
    "collapsed": false
   },
   "outputs": [
    {
     "data": {
      "text/plain": [
       "[<matplotlib.lines.Line2D at 0x214b3d94050>]"
      ]
     },
     "execution_count": 21,
     "metadata": {},
     "output_type": "execute_result"
    },
    {
     "data": {
      "image/png": "[encoded data removed]",
      "text/plain": [
       "<Figure size 640x480 with 1 Axes>"
      ]
     },
     "metadata": {},
     "output_type": "display_data"
    }
   ],
   "source": [
    "from matplotlib import pyplot as plt\n",
    "\n",
    "plt.plot(history2.history['loss'])\n",
    "plt.plot(history2.history['val_loss'])"
   ]
  },
  {
   "cell_type": "code",
   "execution_count": 18,
   "id": "62a7beedd9177f7f",
   "metadata": {
    "ExecuteTime": {
     "end_time": "2024-11-25T19:57:29.556741900Z",
     "start_time": "2024-11-25T19:57:29.544272800Z"
    },
    "collapsed": false
   },
   "outputs": [
    {
     "name": "stdout",
     "output_type": "stream",
     "text": [
      "[1.2206701040267944, 1.2153739929199219, 1.2100173234939575, 1.2011371850967407, 1.196953296661377]\n",
      "[1.2702150344848633, 1.2633880376815796, 1.2580972909927368, 1.2617402076721191, 1.2641927003860474]\n"
     ]
    }
   ],
   "source": [
    "print(history.history['loss'])\n",
    "print(history.history['val_loss'])"
   ]
  }
 ],
 "metadata": {
  "kernelspec": {
   "display_name": "venv",
   "language": "python",
   "name": "python3"
  },
  "language_info": {
   "codemirror_mode": {
    "name": "ipython",
    "version": 3
   },
   "file_extension": ".py",
   "mimetype": "text/x-python",
   "name": "python",
   "nbconvert_exporter": "python",
   "pygments_lexer": "ipython3",
   "version": "3.12.0"
  }
 },
 "nbformat": 4,
 "nbformat_minor": 5
}
